{
 "cells": [
  {
   "attachments": {},
   "cell_type": "markdown",
   "id": "71430d76",
   "metadata": {},
   "source": [
    "# Introduction"
   ]
  },
  {
   "attachments": {},
   "cell_type": "markdown",
   "id": "8c4052f5",
   "metadata": {},
   "source": [
    "Unsupervised Learning is a type of machine learning where the program learns the inherent structure of the data based on unlabeled examples."
   ]
  },
  {
   "attachments": {},
   "cell_type": "markdown",
   "id": "ad83c5f7",
   "metadata": {},
   "source": [
    "<strong>Clustering:</strong>\n",
    "\n",
    "s a common unsupervised machine learning approach that finds patterns and structures in unlabeled data by grouping them into clusters.\n",
    "\n",
    "Some examples:\n",
    "\n",
    "- Social networks clustering topics in their news feed\n",
    "- Consumer sites clustering users for recommendations\n",
    "- Search engines to group similar objects in one cluster\n",
    "\n",
    "For a quick preview, here’s an example of unsupervised learning.\n",
    "\n",
    "A social media platform wants to separate their users into categories based on what kind of content they engage with. They have collected three pieces of data from a sample of users:\n",
    "\n",
    "- Number of hours per week spent reading posts\n",
    "- Number of hours per week spent watching videos\n",
    "- Number of hours per week spent in virtual reality\n",
    "\n",
    "The company is using an algorithm called k-means clustering to sort users into three different groups.\n",
    "\n"
   ]
  }
 ],
 "metadata": {
  "kernelspec": {
   "display_name": "Python 3",
   "language": "python",
   "name": "python3"
  },
  "language_info": {
   "name": "python",
   "version": "3.11.1 (main, Dec 23 2022, 09:28:24) [Clang 14.0.0 (clang-1400.0.29.202)]"
  },
  "vscode": {
   "interpreter": {
    "hash": "5c7b89af1651d0b8571dde13640ecdccf7d5a6204171d6ab33e7c296e100e08a"
   }
  }
 },
 "nbformat": 4,
 "nbformat_minor": 5
}
