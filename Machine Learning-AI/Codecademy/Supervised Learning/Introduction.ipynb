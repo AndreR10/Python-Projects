{
 "cells": [
  {
   "attachments": {},
   "cell_type": "markdown",
   "id": "71430d76",
   "metadata": {},
   "source": [
    "# Introduction"
   ]
  },
  {
   "attachments": {},
   "cell_type": "markdown",
   "id": "8c4052f5",
   "metadata": {},
   "source": [
    "Supervised Learning is where the data is labeled and the program learns to predict the output from the input data. For instance, a supervised learning algorithm for credit card fraud detection would take as input a set of recorded transactions. For each transaction, the program would predict if it is fraudulent or not.\n",
    "\n",
    "Supervised learning problems can be further grouped into regression and classification problems."
   ]
  },
  {
   "attachments": {},
   "cell_type": "markdown",
   "id": "ad83c5f7",
   "metadata": {},
   "source": [
    "<strong>Regression:</strong>\n",
    "\n",
    "In regression problems, we are trying to predict a continuous-valued output. Examples are:\n",
    "\n",
    "- What is the housing price in New York?\n",
    "- What is the value of cryptocurrencies?\n",
    "\n",
    "<strong>Classification:</strong>\n",
    "\n",
    "In classification problems, we are trying to predict a discrete number of values. Examples are:\n",
    "\n",
    "- Is this a picture of a human or a picture of a cyborg?\n",
    "- Is this email spam?\n",
    "\n"
   ]
  }
 ],
 "metadata": {
  "kernelspec": {
   "display_name": "Python 3",
   "language": "python",
   "name": "python3"
  },
  "language_info": {
   "name": "python",
   "version": "3.11.1 (main, Dec 23 2022, 09:28:24) [Clang 14.0.0 (clang-1400.0.29.202)]"
  },
  "vscode": {
   "interpreter": {
    "hash": "5c7b89af1651d0b8571dde13640ecdccf7d5a6204171d6ab33e7c296e100e08a"
   }
  }
 },
 "nbformat": 4,
 "nbformat_minor": 5
}
