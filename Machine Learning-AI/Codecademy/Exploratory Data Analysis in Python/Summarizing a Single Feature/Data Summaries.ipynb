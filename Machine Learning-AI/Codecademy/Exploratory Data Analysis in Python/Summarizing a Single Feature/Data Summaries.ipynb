{
 "cells": [
  {
   "attachments": {},
   "cell_type": "markdown",
   "id": "7d0686c0",
   "metadata": {},
   "source": [
    "## DATA SUMMARIES"
   ]
  },
  {
   "attachments": {},
   "cell_type": "markdown",
   "id": "1a3b4f77",
   "metadata": {},
   "source": [
    "## Introduction"
   ]
  },
  {
   "attachments": {},
   "cell_type": "markdown",
   "id": "adc65c20",
   "metadata": {},
   "source": [
    "https://www.codecademy.com/learn/paths/machine-learning-ai-engineering-foundations/tracks/mlef-exploratory-data-analysis-in-python/modules/mlef-summarizing-a-single-feature/cheatsheet\n",
    "\n",
    "Before diving into formal analysis with a dataset, it is often helpful to perform some initial investigations of the data through exploratory data analysis (EDA) to get a better sense of what you will be working with. Basic summary statistics and visualizations are important components of EDA as they allow us to condense a large amount of information into a small set of numbers or graphics that can be easily interpreted."
   ]
  },
  {
   "cell_type": "markdown",
   "id": "b3cea785",
   "metadata": {},
   "source": [
    "This lesson focuses on <i>univariate summaries</i>, where we explore each variable separately. This is useful for answering questions about each individual feature. Variables can typically be classified as <i>quantitative</i> (i.e., numeric) or <i>categorical</i> (i.e., discrete). Depending on its type, we may want to choose different summary metrics and visuals to use.\n",
    "\n"
   ]
  },
  {
   "cell_type": "code",
   "execution_count": 15,
   "id": "7ea063ea",
   "metadata": {},
   "outputs": [],
   "source": [
    "import pandas as pd\n",
    "from scipy.stats import trim_mean\n",
    "import matplotlib.pyplot as plt\n",
    "import seaborn as sns"
   ]
  },
  {
   "cell_type": "code",
   "execution_count": 8,
   "id": "eea86654",
   "metadata": {},
   "outputs": [
    {
     "data": {
      "text/html": [
       "<div>\n",
       "<style scoped>\n",
       "    .dataframe tbody tr th:only-of-type {\n",
       "        vertical-align: middle;\n",
       "    }\n",
       "\n",
       "    .dataframe tbody tr th {\n",
       "        vertical-align: top;\n",
       "    }\n",
       "\n",
       "    .dataframe thead th {\n",
       "        text-align: right;\n",
       "    }\n",
       "</style>\n",
       "<table border=\"1\" class=\"dataframe\">\n",
       "  <thead>\n",
       "    <tr style=\"text-align: right;\">\n",
       "      <th></th>\n",
       "      <th>movie</th>\n",
       "      <th>production_budget</th>\n",
       "      <th>domestic_gross</th>\n",
       "      <th>worldwide_gross</th>\n",
       "      <th>mpaa_rating</th>\n",
       "      <th>genre</th>\n",
       "    </tr>\n",
       "  </thead>\n",
       "  <tbody>\n",
       "    <tr>\n",
       "      <th>0</th>\n",
       "      <td>Evan Almighty</td>\n",
       "      <td>175000000.0</td>\n",
       "      <td>100289690.0</td>\n",
       "      <td>1.741313e+08</td>\n",
       "      <td>PG</td>\n",
       "      <td>Comedy</td>\n",
       "    </tr>\n",
       "    <tr>\n",
       "      <th>1</th>\n",
       "      <td>Waterworld</td>\n",
       "      <td>175000000.0</td>\n",
       "      <td>88246220.0</td>\n",
       "      <td>2.642462e+08</td>\n",
       "      <td>PG-13</td>\n",
       "      <td>Action</td>\n",
       "    </tr>\n",
       "    <tr>\n",
       "      <th>2</th>\n",
       "      <td>King Arthur: Legend of the Sword</td>\n",
       "      <td>175000000.0</td>\n",
       "      <td>39175066.0</td>\n",
       "      <td>1.399507e+08</td>\n",
       "      <td>PG-13</td>\n",
       "      <td>Adventure</td>\n",
       "    </tr>\n",
       "    <tr>\n",
       "      <th>3</th>\n",
       "      <td>47 Ronin</td>\n",
       "      <td>175000000.0</td>\n",
       "      <td>38362475.0</td>\n",
       "      <td>1.517168e+08</td>\n",
       "      <td>PG-13</td>\n",
       "      <td>Action</td>\n",
       "    </tr>\n",
       "    <tr>\n",
       "      <th>4</th>\n",
       "      <td>Jurassic World: Fallen Kingdom</td>\n",
       "      <td>170000000.0</td>\n",
       "      <td>416769345.0</td>\n",
       "      <td>1.304866e+09</td>\n",
       "      <td>PG-13</td>\n",
       "      <td>Action</td>\n",
       "    </tr>\n",
       "  </tbody>\n",
       "</table>\n",
       "</div>"
      ],
      "text/plain": [
       "                              movie  production_budget  domestic_gross  \\\n",
       "0                     Evan Almighty        175000000.0     100289690.0   \n",
       "1                        Waterworld        175000000.0      88246220.0   \n",
       "2  King Arthur: Legend of the Sword        175000000.0      39175066.0   \n",
       "3                          47 Ronin        175000000.0      38362475.0   \n",
       "4    Jurassic World: Fallen Kingdom        170000000.0     416769345.0   \n",
       "\n",
       "   worldwide_gross mpaa_rating      genre  \n",
       "0     1.741313e+08          PG     Comedy  \n",
       "1     2.642462e+08       PG-13     Action  \n",
       "2     1.399507e+08       PG-13  Adventure  \n",
       "3     1.517168e+08       PG-13     Action  \n",
       "4     1.304866e+09       PG-13     Action  "
      ]
     },
     "execution_count": 8,
     "metadata": {},
     "output_type": "execute_result"
    }
   ],
   "source": [
    "movies = pd.read_csv('movies.csv')\n",
    "\n",
    "# Print the first 5 rows \n",
    "movies.head()"
   ]
  },
  {
   "attachments": {},
   "cell_type": "markdown",
   "id": "fb22deb7",
   "metadata": {},
   "source": [
    "The pandas library offers a handy method <b><code>.describe()</code></b> for displaying some of the most common summary statistics for the columns in a DataFrame. By default, the result only includes numeric columns, but we can specify <code>include='all'</code> to the method to display categorical ones as well:"
   ]
  },
  {
   "cell_type": "code",
   "execution_count": 7,
   "id": "3acacc48",
   "metadata": {},
   "outputs": [
    {
     "data": {
      "text/html": [
       "<div>\n",
       "<style scoped>\n",
       "    .dataframe tbody tr th:only-of-type {\n",
       "        vertical-align: middle;\n",
       "    }\n",
       "\n",
       "    .dataframe tbody tr th {\n",
       "        vertical-align: top;\n",
       "    }\n",
       "\n",
       "    .dataframe thead th {\n",
       "        text-align: right;\n",
       "    }\n",
       "</style>\n",
       "<table border=\"1\" class=\"dataframe\">\n",
       "  <thead>\n",
       "    <tr style=\"text-align: right;\">\n",
       "      <th></th>\n",
       "      <th>movie</th>\n",
       "      <th>production_budget</th>\n",
       "      <th>domestic_gross</th>\n",
       "      <th>worldwide_gross</th>\n",
       "      <th>mpaa_rating</th>\n",
       "      <th>genre</th>\n",
       "    </tr>\n",
       "  </thead>\n",
       "  <tbody>\n",
       "    <tr>\n",
       "      <th>count</th>\n",
       "      <td>3401</td>\n",
       "      <td>3.401000e+03</td>\n",
       "      <td>3.401000e+03</td>\n",
       "      <td>3.401000e+03</td>\n",
       "      <td>3264</td>\n",
       "      <td>3401</td>\n",
       "    </tr>\n",
       "    <tr>\n",
       "      <th>unique</th>\n",
       "      <td>3400</td>\n",
       "      <td>NaN</td>\n",
       "      <td>NaN</td>\n",
       "      <td>NaN</td>\n",
       "      <td>4</td>\n",
       "      <td>5</td>\n",
       "    </tr>\n",
       "    <tr>\n",
       "      <th>top</th>\n",
       "      <td>Tau ming chong</td>\n",
       "      <td>NaN</td>\n",
       "      <td>NaN</td>\n",
       "      <td>NaN</td>\n",
       "      <td>R</td>\n",
       "      <td>Drama</td>\n",
       "    </tr>\n",
       "    <tr>\n",
       "      <th>freq</th>\n",
       "      <td>2</td>\n",
       "      <td>NaN</td>\n",
       "      <td>NaN</td>\n",
       "      <td>NaN</td>\n",
       "      <td>1514</td>\n",
       "      <td>1236</td>\n",
       "    </tr>\n",
       "    <tr>\n",
       "      <th>mean</th>\n",
       "      <td>NaN</td>\n",
       "      <td>3.328474e+07</td>\n",
       "      <td>4.542179e+07</td>\n",
       "      <td>9.411512e+07</td>\n",
       "      <td>NaN</td>\n",
       "      <td>NaN</td>\n",
       "    </tr>\n",
       "    <tr>\n",
       "      <th>std</th>\n",
       "      <td>NaN</td>\n",
       "      <td>3.489239e+07</td>\n",
       "      <td>5.882566e+07</td>\n",
       "      <td>1.409182e+08</td>\n",
       "      <td>NaN</td>\n",
       "      <td>NaN</td>\n",
       "    </tr>\n",
       "    <tr>\n",
       "      <th>min</th>\n",
       "      <td>NaN</td>\n",
       "      <td>2.500000e+05</td>\n",
       "      <td>0.000000e+00</td>\n",
       "      <td>0.000000e+00</td>\n",
       "      <td>NaN</td>\n",
       "      <td>NaN</td>\n",
       "    </tr>\n",
       "    <tr>\n",
       "      <th>25%</th>\n",
       "      <td>NaN</td>\n",
       "      <td>9.000000e+06</td>\n",
       "      <td>6.118683e+06</td>\n",
       "      <td>1.061881e+07</td>\n",
       "      <td>NaN</td>\n",
       "      <td>NaN</td>\n",
       "    </tr>\n",
       "    <tr>\n",
       "      <th>50%</th>\n",
       "      <td>NaN</td>\n",
       "      <td>2.000000e+07</td>\n",
       "      <td>2.553382e+07</td>\n",
       "      <td>4.015902e+07</td>\n",
       "      <td>NaN</td>\n",
       "      <td>NaN</td>\n",
       "    </tr>\n",
       "    <tr>\n",
       "      <th>75%</th>\n",
       "      <td>NaN</td>\n",
       "      <td>4.500000e+07</td>\n",
       "      <td>6.032379e+07</td>\n",
       "      <td>1.176152e+08</td>\n",
       "      <td>NaN</td>\n",
       "      <td>NaN</td>\n",
       "    </tr>\n",
       "    <tr>\n",
       "      <th>max</th>\n",
       "      <td>NaN</td>\n",
       "      <td>1.750000e+08</td>\n",
       "      <td>4.745447e+08</td>\n",
       "      <td>1.304866e+09</td>\n",
       "      <td>NaN</td>\n",
       "      <td>NaN</td>\n",
       "    </tr>\n",
       "  </tbody>\n",
       "</table>\n",
       "</div>"
      ],
      "text/plain": [
       "                 movie  production_budget  domestic_gross  worldwide_gross  \\\n",
       "count             3401       3.401000e+03    3.401000e+03     3.401000e+03   \n",
       "unique            3400                NaN             NaN              NaN   \n",
       "top     Tau ming chong                NaN             NaN              NaN   \n",
       "freq                 2                NaN             NaN              NaN   \n",
       "mean               NaN       3.328474e+07    4.542179e+07     9.411512e+07   \n",
       "std                NaN       3.489239e+07    5.882566e+07     1.409182e+08   \n",
       "min                NaN       2.500000e+05    0.000000e+00     0.000000e+00   \n",
       "25%                NaN       9.000000e+06    6.118683e+06     1.061881e+07   \n",
       "50%                NaN       2.000000e+07    2.553382e+07     4.015902e+07   \n",
       "75%                NaN       4.500000e+07    6.032379e+07     1.176152e+08   \n",
       "max                NaN       1.750000e+08    4.745447e+08     1.304866e+09   \n",
       "\n",
       "       mpaa_rating  genre  \n",
       "count         3264   3401  \n",
       "unique           4      5  \n",
       "top              R  Drama  \n",
       "freq          1514   1236  \n",
       "mean           NaN    NaN  \n",
       "std            NaN    NaN  \n",
       "min            NaN    NaN  \n",
       "25%            NaN    NaN  \n",
       "50%            NaN    NaN  \n",
       "75%            NaN    NaN  \n",
       "max            NaN    NaN  "
      ]
     },
     "execution_count": 7,
     "metadata": {},
     "output_type": "execute_result"
    }
   ],
   "source": [
    "# Print the summary statistics for all columns\n",
    "movies.describe(include='all')"
   ]
  },
  {
   "attachments": {},
   "cell_type": "markdown",
   "id": "103e2bc2",
   "metadata": {},
   "source": [
    "***"
   ]
  },
  {
   "attachments": {},
   "cell_type": "markdown",
   "id": "5b492623",
   "metadata": {},
   "source": [
    "## Central Tendency for Quantitative Data"
   ]
  },
  {
   "attachments": {},
   "cell_type": "markdown",
   "id": "6be1f14d",
   "metadata": {},
   "source": [
    "For quantitative variables, we often want to describe the central tendency, or the “typical” value of a variable. For example, what is the typical cost of rent in New York City?\n",
    "\n",
    "There are several common measures of central tendency:\n",
    "\n",
    "<ul>\n",
    "<li><b>Mean</b>: The average value of the variable, calculated as the sum of all values divided by the number of values.</li>\n",
    "<li><b>Median</b>: The middle value of the variable when sorted.</li>\n",
    "<li><b>Mode</b>: The most frequent value of the variable.</li>\n",
    "<li><b>Trimmed mean</b>: The mean excluding x percent of the lowest and highest data points.</li>\n",
    "</ul>\n"
   ]
  },
  {
   "cell_type": "code",
   "execution_count": 11,
   "id": "173a0bf7",
   "metadata": {},
   "outputs": [],
   "source": [
    "# Save the mean to mean_budget\n",
    "mean_budget = movies.production_budget.mean()\n",
    "\n",
    "# Save the median to med_budget\n",
    "med_budget = movies.production_budget.median()\n",
    "\n",
    "# Save the mode to mode_budget\n",
    "mode_budget = movies.production_budget.mode()\n",
    "\n",
    "# Save the trimmed mean to trmean_budget\n",
    "trmean_budget = trim_mean(movies.production_budget, proportiontocut=0.2)"
   ]
  },
  {
   "attachments": {},
   "cell_type": "markdown",
   "id": "b76cea1a",
   "metadata": {},
   "source": [
    "***"
   ]
  },
  {
   "attachments": {},
   "cell_type": "markdown",
   "id": "a419aacf",
   "metadata": {},
   "source": [
    "## Spread for Quantitative Data\n"
   ]
  },
  {
   "attachments": {},
   "cell_type": "markdown",
   "id": "385e717a",
   "metadata": {},
   "source": [
    "The spread of a quantitative variable describes the amount of variability. This is important because it provides context for measures of central tendency. For example, if there is a lot of variability in New York City rent prices, we can be less certain that the mean or median price is representative of what the typical rent is.\n",
    "\n",
    "There are several common measures of spread:\n",
    "\n",
    "- __Range__: The difference between the maximum and minimum values of a variable.\n",
    "- __Interquartile range (IQR)__: The difference between the 75th and 25th percentile values.\n",
    "- __Variance__: The average of the squared distance from each data point to the mean.\n",
    "- __Standard deviation (SD)__: The square root of the variance.\n",
    "- __Mean absolute deviation (MAD)__: The mean absolute value of the distance between each data point and the mean."
   ]
  },
  {
   "cell_type": "code",
   "execution_count": 13,
   "id": "2faeae2c",
   "metadata": {},
   "outputs": [],
   "source": [
    "# Save the range to range_budget\n",
    "range_budget = movies.production_budget.max() - movies.production_budget.min()\n",
    "\n",
    "# Save the interquartile range to iqr_budget\n",
    "iqr_budget = movies.production_budget.quantile(0.75) - movies.production_budget.quantile(0.25)\n",
    "\n",
    "# Save the variance to var_budget\n",
    "var_budget = movies.production_budget.var()\n",
    "\n",
    "# Save the standard deviation to std_budget\n",
    "std_budget = movies.production_budget.std()\n",
    "\n",
    "# Save the mean absolute deviation to mad_budget\n",
    "mad_budget = movies.production_budget.mad()\n"
   ]
  },
  {
   "attachments": {},
   "cell_type": "markdown",
   "id": "8f07f6bb",
   "metadata": {},
   "source": [
    "***"
   ]
  },
  {
   "attachments": {},
   "cell_type": "markdown",
   "id": "30ba5d75",
   "metadata": {},
   "source": [
    "## Visualizing Quantitative Variables"
   ]
  },
  {
   "attachments": {},
   "cell_type": "markdown",
   "id": "aa352398",
   "metadata": {},
   "source": [
    "While summary statistics are certainly helpful for exploring and quantifying a feature, we might find it hard to wrap our minds around a bunch of numbers. This is why data visualization is such a powerful element of EDA.\n",
    "\n",
    "For quantitative variables, boxplots and histograms are two common visualizations. These plots are useful because they simultaneously communicate information about minimum and maximum values, central location, and spread. Histograms can additionally illuminate patterns that can impact an analysis (e.g., skew or multimodality)."
   ]
  },
  {
   "cell_type": "code",
   "execution_count": 16,
   "id": "33be50ad",
   "metadata": {},
   "outputs": [
    {
     "data": {
      "image/png": "[encoded data removed]",
      "text/plain": [
       "<Figure size 640x480 with 1 Axes>"
      ]
     },
     "metadata": {},
     "output_type": "display_data"
    }
   ],
   "source": [
    "# Create a boxplot for movie budget \n",
    "sns.boxplot(x='production_budget', data=movies)\n",
    "plt.show()\n",
    "plt.close()"
   ]
  },
  {
   "cell_type": "code",
   "execution_count": 17,
   "id": "39935657",
   "metadata": {},
   "outputs": [
    {
     "data": {
      "image/png": "[encoded data removed]",
      "text/plain": [
       "<Figure size 640x480 with 1 Axes>"
      ]
     },
     "metadata": {},
     "output_type": "display_data"
    }
   ],
   "source": [
    "# Create a histogram for movie budget\n",
    "sns.histplot(x='production_budget', data=movies)\n",
    "plt.show()\n",
    "plt.close()"
   ]
  },
  {
   "attachments": {},
   "cell_type": "markdown",
   "id": "10ea2566",
   "metadata": {},
   "source": [
    "***"
   ]
  },
  {
   "attachments": {},
   "cell_type": "markdown",
   "id": "e8018ddc",
   "metadata": {},
   "source": [
    "## Value Counts for Categorical Data\n"
   ]
  },
  {
   "attachments": {},
   "cell_type": "markdown",
   "id": "a733e8ab",
   "metadata": {},
   "source": [
    "When it comes to categorical variables, the measures of central tendency and spread that worked for describing numeric variables, like mean and standard deviation, generally becomes unsuitable when we’re dealing with discrete values. Unlike numbers, categorical values are not continuous and oftentimes do not have an intrinsic ordering.\n",
    "\n",
    "Instead, a good way to summarize categorical variables is to generate a frequency table containing the count of each distinct value. For example, we may be interested to know how many of the New York City rental listings are from each borough. Related, we can also find which borough has the most listings.\n",
    "\n",
    "The pandas library offers the <code>.value_counts()</code> method for generating the counts of all values in a DataFrame column"
   ]
  },
  {
   "cell_type": "code",
   "execution_count": 18,
   "id": "94c48a32",
   "metadata": {},
   "outputs": [
    {
     "name": "stdout",
     "output_type": "stream",
     "text": [
      "Drama        1236\n",
      "Comedy        813\n",
      "Action        573\n",
      "Adventure     481\n",
      "Horror        298\n",
      "Name: genre, dtype: int64\n"
     ]
    }
   ],
   "source": [
    "# Save the counts to genre_counts\n",
    "genre_counts = movies.genre.value_counts()\n",
    "print(genre_counts)"
   ]
  },
  {
   "attachments": {},
   "cell_type": "markdown",
   "id": "9de52aca",
   "metadata": {},
   "source": [
    "## Value Proportions for Categorical Data\n"
   ]
  },
  {
   "attachments": {},
   "cell_type": "markdown",
   "id": "c909f56b",
   "metadata": {},
   "source": [
    "A counts table is one approach for exploring categorical variables, but sometimes it is useful to also look at the proportion of values in each category. For example, knowing that there are 3,539 rental listings in Manhattan is hard to interpret without any context about the counts in the other categories. On the other hand, knowing that Manhattan listings make up 71% of all New York City listings tells us a lot more about the relative frequency of this category.\n",
    "\n",
    "We can calculate the proportion for each category by dividing its count by the total number of values for that variable:\n",
    "\n"
   ]
  },
  {
   "cell_type": "code",
   "execution_count": 19,
   "id": "4dcfc285",
   "metadata": {},
   "outputs": [
    {
     "data": {
      "text/plain": [
       "Drama        0.363423\n",
       "Comedy       0.239047\n",
       "Action       0.168480\n",
       "Adventure    0.141429\n",
       "Horror       0.087621\n",
       "Name: genre, dtype: float64"
      ]
     },
     "execution_count": 19,
     "metadata": {},
     "output_type": "execute_result"
    }
   ],
   "source": [
    "# Save the proportions to genre_props\n",
    "genre_props = movies.genre.value_counts() / len(movies.genre)\n",
    "genre_props"
   ]
  },
  {
   "attachments": {},
   "cell_type": "markdown",
   "id": "036b87ac",
   "metadata": {},
   "source": [
    "## Visualizing Categorical Variables"
   ]
  },
  {
   "attachments": {},
   "cell_type": "markdown",
   "id": "f2519b5a",
   "metadata": {},
   "source": [
    "For categorical variables, bar charts and pie charts are common options for visualizing the count (or proportion) of values in each category. They can also convey the relative frequencies of each category.\n",
    "\n",
    "In general, many data analysts avoid pie charts because people are better at visually comparing areas of rectangles than wedges of a pie. For a variable with a small number of categories (i.e., fewer than three), a pie chart is a reasonable choice; however, for more complex data, a bar chart is usually preferable."
   ]
  },
  {
   "cell_type": "code",
   "execution_count": 20,
   "id": "34d3d73b",
   "metadata": {},
   "outputs": [
    {
     "data": {
      "image/png": "[encoded data removed]",
      "text/plain": [
       "<Figure size 640x480 with 1 Axes>"
      ]
     },
     "metadata": {},
     "output_type": "display_data"
    }
   ],
   "source": [
    "# Create a bar chart for movie genre \n",
    "sns.countplot(x='genre', data=movies)\n",
    "plt.show()\n",
    "plt.close()"
   ]
  },
  {
   "cell_type": "code",
   "execution_count": 21,
   "id": "99b9e56f",
   "metadata": {},
   "outputs": [
    {
     "data": {
      "image/png": "[encoded data removed]",
      "text/plain": [
       "<Figure size 640x480 with 1 Axes>"
      ]
     },
     "metadata": {},
     "output_type": "display_data"
    }
   ],
   "source": [
    "# Create a pie chart for movie genre\n",
    "movies.genre.value_counts().plot.pie()\n",
    "plt.show()\n",
    "plt.close()"
   ]
  },
  {
   "attachments": {},
   "cell_type": "markdown",
   "id": "14e8efd2",
   "metadata": {},
   "source": [
    "***"
   ]
  }
 ],
 "metadata": {
  "kernelspec": {
   "display_name": "ml-codecademy",
   "language": "python",
   "name": "python3"
  },
  "language_info": {
   "codemirror_mode": {
    "name": "ipython",
    "version": 3
   },
   "file_extension": ".py",
   "mimetype": "text/x-python",
   "name": "python",
   "nbconvert_exporter": "python",
   "pygments_lexer": "ipython3",
   "version": "3.10.8"
  },
  "vscode": {
   "interpreter": {
    "hash": "a2aea5e638de63752c08393978f3c0ded6b3082f5a6d5abcf27d98d6f21ddda6"
   }
  }
 },
 "nbformat": 4,
 "nbformat_minor": 5
}
