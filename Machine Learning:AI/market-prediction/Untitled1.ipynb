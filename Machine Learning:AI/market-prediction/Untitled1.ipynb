{
 "cells": [
  {
   "cell_type": "markdown",
   "id": "4d7e462f",
   "metadata": {},
   "source": [
    "# Market Prediction\n",
    "\n",
    "## Project Steps\n",
    "\n",
    "- Download data using the yfinance package\n",
    "- Create an initial machine learning model and estimate accuracy\n",
    "- Build a backtesting engine to more accurately measure accuracy\n",
    "- Improve the accuracy of the model"
   ]
  },
  {
   "cell_type": "code",
   "execution_count": null,
   "id": "014e7219",
   "metadata": {},
   "outputs": [],
   "source": []
  }
 ],
 "metadata": {
  "kernelspec": {
   "display_name": "marketenv",
   "language": "python",
   "name": "marketenv"
  },
  "language_info": {
   "codemirror_mode": {
    "name": "ipython",
    "version": 3
   },
   "file_extension": ".py",
   "mimetype": "text/x-python",
   "name": "python",
   "nbconvert_exporter": "python",
   "pygments_lexer": "ipython3",
   "version": "3.10.8"
  }
 },
 "nbformat": 4,
 "nbformat_minor": 5
}
