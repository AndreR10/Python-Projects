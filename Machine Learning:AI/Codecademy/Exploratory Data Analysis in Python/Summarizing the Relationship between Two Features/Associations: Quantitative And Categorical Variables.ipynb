{
 "cells": [
  {
   "attachments": {},
   "cell_type": "markdown",
   "metadata": {},
   "source": [
    "# ASSOCIATIONS: QUANTITATIVE AND CATEGORICAL VARIABLES"
   ]
  },
  {
   "attachments": {},
   "cell_type": "markdown",
   "metadata": {},
   "source": [
    "## Introduction"
   ]
  },
  {
   "attachments": {},
   "cell_type": "markdown",
   "metadata": {},
   "source": [
    "Examining the relationship between variables can give us key insight into our data. In this lesson, we will cover ways of assessing the association between a quantitative variable and a categorical variable.\n",
    "\n",
    "In the next few exercises, we’ll explore a dataset that contains the following information about students at two portuguese schools:\n",
    "\n",
    "- school: the school each student attends, Gabriel Periera ('GP') or Mousinho da Silveria ('MS')\n",
    "- address: the location of the student’s home ('U' for urban and 'R' for rural)\n",
    "- absences: the number of times the student was absent during the school year\n",
    "- Mjob: the student’s mother’s job industry\n",
    "- Fjob: the student’s father’s job industry\n",
    "- G3: the student’s score on a math assessment, ranging from 0 to 20\n",
    "\n",
    "Suppose we want to know: Is a student’s score (G3) associated with their school (school)? If so, then knowing what school a student attends gives us information about what their score is likely to be. For example, maybe students at one of the schools consistently score higher than students at the other school."
   ]
  },
  {
   "cell_type": "code",
   "execution_count": 13,
   "metadata": {},
   "outputs": [],
   "source": [
    "import numpy as np\n",
    "import pandas as pd\n",
    "import matplotlib.pyplot as plt \n",
    "import seaborn as sns"
   ]
  },
  {
   "cell_type": "code",
   "execution_count": 5,
   "metadata": {},
   "outputs": [],
   "source": [
    "\n",
    "students = pd.read_csv('students.csv')"
   ]
  },
  {
   "cell_type": "code",
   "execution_count": 6,
   "metadata": {},
   "outputs": [
    {
     "name": "stdout",
     "output_type": "stream",
     "text": [
      "  school address  absences     Mjob      Fjob  G3\n",
      "0     GP       U         6  at_home   teacher   6\n",
      "1     GP       U         4  at_home     other   6\n",
      "2     GP       U        10  at_home     other  10\n",
      "3     GP       U         2   health  services  15\n",
      "4     GP       U         4    other     other  10\n"
     ]
    }
   ],
   "source": [
    "#print the first five rows of students:\n",
    "print(students.head())"
   ]
  },
  {
   "cell_type": "code",
   "execution_count": 7,
   "metadata": {},
   "outputs": [],
   "source": [
    "#separate out scores for students who live in urban and rural locations:\n",
    "scores_urban = students.G3[students.address == 'U']\n",
    "scores_rural = students.G3[students.address == 'R']"
   ]
  },
  {
   "attachments": {},
   "cell_type": "markdown",
   "metadata": {},
   "source": [
    "***"
   ]
  },
  {
   "attachments": {},
   "cell_type": "markdown",
   "metadata": {},
   "source": [
    "## Mean and Median Differences"
   ]
  },
  {
   "attachments": {},
   "cell_type": "markdown",
   "metadata": {},
   "source": [
    " Highly associated variables tend to have a large mean or median difference. Since “large” could have different meanings depending on the variable, we will go into more detail in the next exercise."
   ]
  },
  {
   "cell_type": "code",
   "execution_count": 11,
   "metadata": {},
   "outputs": [
    {
     "name": "stdout",
     "output_type": "stream",
     "text": [
      "Mean score - students w/ urban address:\n",
      "10.674267100977199\n",
      "Mean score - students w/ rural address:\n",
      "9.511363636363637\n",
      "Mean difference:\n",
      "1.1629034646135619\n"
     ]
    }
   ],
   "source": [
    "#calculate means for each group:\n",
    "scores_urban_mean = np.mean(scores_urban)\n",
    "scores_rural_mean = np.mean(scores_rural)\n",
    "\n",
    "#print mean scores:\n",
    "print('Mean score - students w/ urban address:')\n",
    "print(scores_urban_mean)\n",
    "print('Mean score - students w/ rural address:')\n",
    "print(scores_rural_mean)\n",
    "\n",
    "#calculate mean difference:\n",
    "mean_diff = scores_urban_mean - scores_rural_mean\n",
    "\n",
    "#print mean difference\n",
    "print('Mean difference:')\n",
    "print(mean_diff)"
   ]
  },
  {
   "cell_type": "code",
   "execution_count": 12,
   "metadata": {},
   "outputs": [
    {
     "name": "stdout",
     "output_type": "stream",
     "text": [
      "Median score - students w/ urban address:\n",
      "11.0\n",
      "Median score - students w/ rural address:\n",
      "10.0\n",
      "Median difference:\n",
      "1.0\n"
     ]
    }
   ],
   "source": [
    "#calculate medians for each group:\n",
    "scores_urban_median = np.median(scores_urban)\n",
    "scores_rural_median = np.median(scores_rural)\n",
    "\n",
    "#print median scores\n",
    "print('Median score - students w/ urban address:')\n",
    "print(scores_urban_median)\n",
    "print('Median score - students w/ rural address:')\n",
    "print(scores_rural_median)\n",
    "\n",
    "#calculate median difference\n",
    "median_diff = scores_urban_median - scores_rural_median\n",
    "\n",
    "#print median difference\n",
    "print('Median difference:')\n",
    "print(median_diff)"
   ]
  },
  {
   "attachments": {},
   "cell_type": "markdown",
   "metadata": {},
   "source": [
    "How do we know whether this difference is considered small or large? To answer this question, we need to know something about the spread of the data.\n",
    "\n",
    "One way to get a better sense of spread is by looking at a visual representation of the data. Side-by-side box plots are useful in visualizing mean and median differences because they allow us to visually estimate the variation in the data. This can help us determine if mean or median differences are “large” or “small”.\n",
    "\n",
    "Side-by-side box plots can be used along with mean and median differences to assess whether a quantitative variable and a categorical variable are associated. More overlap in the box plots indicates less association while less overlap in the box plots indicates a stronger association."
   ]
  },
  {
   "cell_type": "code",
   "execution_count": 14,
   "metadata": {},
   "outputs": [
    {
     "data": {
      "image/png": "[encoded data removed]",
      "text/plain": [
       "<Figure size 640x480 with 1 Axes>"
      ]
     },
     "metadata": {},
     "output_type": "display_data"
    }
   ],
   "source": [
    "#create the boxplot here:\n",
    "sns.boxplot(data = students, x = 'address', y = 'G3')\n",
    "plt.show()"
   ]
  },
  {
   "attachments": {},
   "cell_type": "markdown",
   "metadata": {},
   "source": [
    "***"
   ]
  },
  {
   "attachments": {},
   "cell_type": "markdown",
   "metadata": {},
   "source": [
    "## Inspecting Overlapping Histograms"
   ]
  },
  {
   "attachments": {},
   "cell_type": "markdown",
   "metadata": {},
   "source": [
    "Another way to explore the relationship between a quantitative and categorical variable in more detail is by inspecting overlapping histograms. In the code below, setting alpha = .5 ensures that the histograms are see-through enough that we can see both of them at once. We have also used normed=True make sure that the y-axis is a density rather than a frequency."
   ]
  },
  {
   "cell_type": "code",
   "execution_count": 16,
   "metadata": {},
   "outputs": [
    {
     "data": {
      "image/png": "[encoded data removed]",
      "text/plain": [
       "<Figure size 640x480 with 1 Axes>"
      ]
     },
     "metadata": {},
     "output_type": "display_data"
    }
   ],
   "source": [
    "#create the overlapping histograms here:\n",
    "plt.hist(scores_urban , color=\"blue\", label=\"GP\", density=True, alpha=0.5)\n",
    "plt.hist(scores_rural , color=\"red\", label=\"MS\", density=True, alpha=0.5)\n",
    "plt.legend()\n",
    "plt.show()"
   ]
  },
  {
   "attachments": {},
   "cell_type": "markdown",
   "metadata": {},
   "source": [
    "By inspecting this histogram, we can clearly see that the entire distribution of scores at GP (not just the mean or median) appears slightly shifted to the right (higher) compared to the scores at MS. However, there is also still a lot of overlap between the scores, suggesting that the association is relatively weak."
   ]
  },
  {
   "attachments": {},
   "cell_type": "markdown",
   "metadata": {},
   "source": [
    "***"
   ]
  },
  {
   "attachments": {},
   "cell_type": "markdown",
   "metadata": {},
   "source": [
    "## Exploring Non-Binary Categorical Variables"
   ]
  },
  {
   "attachments": {},
   "cell_type": "markdown",
   "metadata": {},
   "source": [
    "In each of the previous exercises, we assessed whether there was an association between a quantitative variable (math scores) and a BINARY categorical variable (school). The categorical variable is considered binary because there are only two available options, either MS or GP. However, sometimes we are interested in an association between a quantitative variable and non-binary categorical variable. Non-binary categorical variables have more than two categories."
   ]
  },
  {
   "cell_type": "code",
   "execution_count": 17,
   "metadata": {},
   "outputs": [
    {
     "data": {
      "image/png": "[encoded data removed]",
      "text/plain": [
       "<Figure size 640x480 with 1 Axes>"
      ]
     },
     "metadata": {},
     "output_type": "display_data"
    }
   ],
   "source": [
    "#create the box-plot here:\n",
    "sns.boxplot(data = students, x = 'Fjob', y = 'G3')\n",
    "plt.show()\n"
   ]
  }
 ],
 "metadata": {
  "kernelspec": {
   "display_name": "ml-codecademy",
   "language": "python",
   "name": "python3"
  },
  "language_info": {
   "codemirror_mode": {
    "name": "ipython",
    "version": 3
   },
   "file_extension": ".py",
   "mimetype": "text/x-python",
   "name": "python",
   "nbconvert_exporter": "python",
   "pygments_lexer": "ipython3",
   "version": "3.10.8 (main, Nov 24 2022, 08:09:04) [Clang 14.0.6 ]"
  },
  "orig_nbformat": 4,
  "vscode": {
   "interpreter": {
    "hash": "a2aea5e638de63752c08393978f3c0ded6b3082f5a6d5abcf27d98d6f21ddda6"
   }
  }
 },
 "nbformat": 4,
 "nbformat_minor": 2
}
